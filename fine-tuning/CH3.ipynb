{
 "cells": [
  {
   "cell_type": "code",
   "execution_count": null,
   "id": "90964ed3-a888-40f8-8cc8-183e9ceae135",
   "metadata": {},
   "outputs": [],
   "source": [
    "from transformers import pipeline\n",
    "import torch\n",
    "\n",
    "model_id = \"./Meta-Llama-3.1-8B-Instruct\"\n",
    "pipe = pipeline(\n",
    "    \"text-generation\",\n",
    "    model=model_id,\n",
    "    model_kwargs={\"torch_dtype\": torch.bfloat16},\n",
    "    device=\"cpu\",\n",
    ")\n",
    "\n",
    "messages = [{\"role\": \"user\", \"content\": \"What is a transfer function\"},]\n",
    "\n",
    "outputs = pipe(messages, \n",
    "               max_new_tokens=256, \n",
    "               do_sample=True,  # Enable sampling\n",
    "               temperature=0.6,  # Adjust temperature for sampling\n",
    "               top_p=0.9)  # Adjust top_p for nucleus sampling\n",
    "\n",
    "assistant_response = outputs[0][\"generated_text\"][-1][\"content\"]\n",
    "print(assistant_response)\n"
   ]
  }
 ],
 "metadata": {
  "kernelspec": {
   "display_name": "Python 3.10.4 64-bit",
   "language": "python",
   "name": "python3"
  },
  "language_info": {
   "codemirror_mode": {
    "name": "ipython",
    "version": 3
   },
   "file_extension": ".py",
   "mimetype": "text/x-python",
   "name": "python",
   "nbconvert_exporter": "python",
   "pygments_lexer": "ipython3",
   "version": "3.10.4"
  },
  "vscode": {
   "interpreter": {
    "hash": "d1d2a9ecc905ef171fa753a7e952cc3d53b061ba87f364110eb501a5ad998ef5"
   }
  }
 },
 "nbformat": 4,
 "nbformat_minor": 5
}
